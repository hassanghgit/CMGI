{
  "cells": [
    {
      "cell_type": "markdown",
      "metadata": {
        "id": "view-in-github",
        "colab_type": "text"
      },
      "source": [
        "<a href=\"https://colab.research.google.com/github/hassanghgit/CMGI/blob/main/Level_Test.ipynb\" target=\"_parent\"><img src=\"https://colab.research.google.com/assets/colab-badge.svg\" alt=\"Open In Colab\"/></a>"
      ]
    },
    {
      "cell_type": "markdown",
      "metadata": {
        "id": "JDs-A8pvf1P_"
      },
      "source": [
        "![alt text](https://apac.ee.kntu.ac.ir/wp-content/uploads/2024/09/apacgroup-logo.svg)"
      ]
    },
    {
      "cell_type": "markdown",
      "metadata": {
        "id": "OMXJkfvXf1QA"
      },
      "source": [
        "# Level Test\n",
        "### Note: people who can answer this test **do not** need to attend first 50 hour of Python course"
      ]
    },
    {
      "cell_type": "markdown",
      "metadata": {
        "id": "SKacOB3hf1QB"
      },
      "source": [
        "The questions will be given and you sould code in the box below"
      ]
    },
    {
      "cell_type": "markdown",
      "metadata": {
        "id": "95X-_TF7f1QC"
      },
      "source": [
        "# Q1 :\n",
        "calaulate the mod of three digit prime number(choose on your own) to 2 and proof that it is True\n",
        "\n"
      ]
    },
    {
      "cell_type": "code",
      "execution_count": 1,
      "metadata": {
        "vscode": {
          "languageId": "plaintext"
        },
        "id": "Kk3zPDvzf1QD",
        "outputId": "e3b0999f-a160-4c8c-9a1d-d58ba5efb7ff",
        "colab": {
          "base_uri": "https://localhost:8080/"
        }
      },
      "outputs": [
        {
          "output_type": "stream",
          "name": "stdout",
          "text": [
            "The prime number is: 101\n",
            "The modulo 2 result is: 1\n",
            "Is the modulo result True?: True\n",
            "Is 101 a prime number?: True\n",
            "Is 101 a three-digit number?: True\n"
          ]
        }
      ],
      "source": [
        "# prompt: calaulate the mod of three digit prime number(choose on your own) to 2 and proof that it is True\n",
        "\n",
        "# We choose 101 as a three-digit prime number.\n",
        "prime_number = 101\n",
        "mod_result = prime_number % 2\n",
        "\n",
        "print(f\"The prime number is: {prime_number}\")\n",
        "print(f\"The modulo 2 result is: {mod_result}\")\n",
        "\n",
        "# Proof:\n",
        "# A prime number greater than 2 must be odd.\n",
        "# An odd number divided by 2 always has a remainder of 1.\n",
        "# Therefore, the modulo 2 of a three-digit prime number will be 1.\n",
        "# Since 1 is a non-zero value, it is considered \"True\" in a boolean context.\n",
        "\n",
        "is_true = bool(mod_result)\n",
        "print(f\"Is the modulo result True?: {is_true}\")\n",
        "\n",
        "# We can also check if the number is prime (optional but good practice)\n",
        "def is_prime(n):\n",
        "  if n <= 1:\n",
        "    return False\n",
        "  for i in range(2, int(n**0.5) + 1):\n",
        "    if n % i == 0:\n",
        "      return False\n",
        "  return True\n",
        "\n",
        "print(f\"Is {prime_number} a prime number?: {is_prime(prime_number)}\")\n",
        "print(f\"Is {prime_number} a three-digit number?: {100 <= prime_number <= 999}\")"
      ]
    },
    {
      "cell_type": "markdown",
      "metadata": {
        "id": "Im67iOc4f1QE"
      },
      "source": [
        "# Q2:\n",
        "code to get two string first print the type of input and then put them together(give it your name and last name)\n"
      ]
    },
    {
      "cell_type": "code",
      "execution_count": 2,
      "metadata": {
        "vscode": {
          "languageId": "plaintext"
        },
        "id": "ZXx_l6N_f1QE",
        "outputId": "d6b18c43-14de-4996-ed7e-11ab29d82f94",
        "colab": {
          "base_uri": "https://localhost:8080/",
          "height": 70
        }
      },
      "outputs": [
        {
          "output_type": "stream",
          "name": "stdout",
          "text": [
            "<class 'str'>\n",
            "<class 'str'>\n"
          ]
        },
        {
          "output_type": "execute_result",
          "data": {
            "text/plain": [
              "'YourName YourLastName'"
            ],
            "application/vnd.google.colaboratory.intrinsic+json": {
              "type": "string"
            }
          },
          "metadata": {},
          "execution_count": 2
        }
      ],
      "source": [
        "# prompt: code to get two string first print the type of input and then put them together(give it your name and last name)\n",
        "\n",
        "name = \"YourName\" #@param {type:\"string\"}\n",
        "last_name = \"YourLastName\" #@param {type:\"string\"}\n",
        "\n",
        "print(type(name))\n",
        "print(type(last_name))\n",
        "\n",
        "full_name = name + \" \" + last_name\n",
        "full_name"
      ]
    },
    {
      "cell_type": "markdown",
      "metadata": {
        "id": "tN4QfFFTf1QF"
      },
      "source": [
        "# Q3:\n",
        "create a list with 5 member and change the the three one to Iran"
      ]
    },
    {
      "cell_type": "code",
      "execution_count": 3,
      "metadata": {
        "vscode": {
          "languageId": "plaintext"
        },
        "id": "eBpoOyJsf1QG",
        "outputId": "3c65dfc7-34b8-4863-de25-9b2eea7cf894",
        "colab": {
          "base_uri": "https://localhost:8080/"
        }
      },
      "outputs": [
        {
          "output_type": "execute_result",
          "data": {
            "text/plain": [
              "['apple', 'banana', 'Iran', 'date', 'elderberry']"
            ]
          },
          "metadata": {},
          "execution_count": 3
        }
      ],
      "source": [
        "# prompt: create a list with 5 member and change the the three one to Iran\n",
        "\n",
        "my_list = [\"apple\", \"banana\", \"cherry\", \"date\", \"elderberry\"]\n",
        "my_list[2] = \"Iran\"\n",
        "my_list"
      ]
    },
    {
      "cell_type": "markdown",
      "metadata": {
        "id": "y_LsmVGnf1QG"
      },
      "source": [
        "# Q4:\n",
        "create a dictionary with 5 member assign a b c d e to 1 to 5 and print Dictionary items"
      ]
    },
    {
      "cell_type": "code",
      "execution_count": 4,
      "metadata": {
        "vscode": {
          "languageId": "plaintext"
        },
        "id": "-1m_Pe7Df1QG",
        "outputId": "54b89fb3-3bfd-4862-9be4-2db456f0b36a",
        "colab": {
          "base_uri": "https://localhost:8080/"
        }
      },
      "outputs": [
        {
          "output_type": "stream",
          "name": "stdout",
          "text": [
            "dict_items([('a', 1), ('b', 2), ('c', 3), ('d', 4), ('e', 5)])\n"
          ]
        }
      ],
      "source": [
        "# prompt: create a dictionary with 5 member assign a b c d e to 1 to 5 and print Dictionary items\n",
        "\n",
        "my_dict = {\n",
        "    'a': 1,\n",
        "    'b': 2,\n",
        "    'c': 3,\n",
        "    'd': 4,\n",
        "    'e': 5\n",
        "}\n",
        "\n",
        "# Print dictionary items\n",
        "print(my_dict.items())"
      ]
    },
    {
      "cell_type": "markdown",
      "metadata": {
        "id": "IL7iqeEzf1QH"
      },
      "source": [
        "# Q5:\n",
        "Open an existing file in your computer and print last line(you can make a txt file then do it)"
      ]
    },
    {
      "cell_type": "code",
      "execution_count": 5,
      "metadata": {
        "vscode": {
          "languageId": "plaintext"
        },
        "id": "CuIoLv6mf1QH",
        "outputId": "94c2fce0-9280-41b5-f7f4-24bc7fedfac6",
        "colab": {
          "base_uri": "https://localhost:8080/"
        }
      },
      "outputs": [
        {
          "output_type": "stream",
          "name": "stdout",
          "text": [
            "Error: filename.txt not found. Please upload the file.\n"
          ]
        }
      ],
      "source": [
        "# prompt: # Q5:\n",
        "# Open an existing file in your computer and print last line(you can make a txt file then do it)\n",
        "\n",
        "# To run this in Colab, you first need to upload the file 'filename.txt'\n",
        "# You can do this by clicking the folder icon in the left sidebar,\n",
        "# then the upload icon, and selecting your file.\n",
        "\n",
        "try:\n",
        "  with open('filename.txt', 'r') as f:\n",
        "    lines = f.readlines()\n",
        "    if lines:\n",
        "      print(lines[-1].strip()) # .strip() removes leading/trailing whitespace, including newline characters\n",
        "    else:\n",
        "      print(\"The file is empty.\")\n",
        "except FileNotFoundError:\n",
        "  print(\"Error: filename.txt not found. Please upload the file.\")\n",
        "except Exception as e:\n",
        "  print(f\"An error occurred: {e}\")"
      ]
    },
    {
      "cell_type": "markdown",
      "metadata": {
        "id": "IxRoUstFf1QH"
      },
      "source": [
        "# Q6:\n",
        "Check 255 is greater than 188 and 255 is smaller than 189 in one line"
      ]
    },
    {
      "cell_type": "code",
      "execution_count": 6,
      "metadata": {
        "vscode": {
          "languageId": "plaintext"
        },
        "id": "ehDwP__Vf1QI",
        "outputId": "2dda141a-eec4-45c0-ca32-be3b754bb463",
        "colab": {
          "base_uri": "https://localhost:8080/"
        }
      },
      "outputs": [
        {
          "output_type": "stream",
          "name": "stdout",
          "text": [
            "False\n"
          ]
        }
      ],
      "source": [
        "# prompt: Check 255 is greater than 188 and 255 is smaller than 189 in one line\n",
        "\n",
        "print(255 > 188 and 255 < 189)"
      ]
    },
    {
      "cell_type": "markdown",
      "metadata": {
        "id": "_G4nGCTrf1QI"
      },
      "source": [
        "# Q7:\n",
        "assign a your name to variable name person check it among your friends name if its true print 'HOORA'"
      ]
    },
    {
      "cell_type": "code",
      "execution_count": 7,
      "metadata": {
        "vscode": {
          "languageId": "plaintext"
        },
        "id": "lEdiyo6Yf1QJ",
        "outputId": "0b0f41b1-c073-4235-ecfc-12ac79f63ad2",
        "colab": {
          "base_uri": "https://localhost:8080/"
        }
      },
      "outputs": [
        {
          "output_type": "stream",
          "name": "stdout",
          "text": [
            "HOORA\n"
          ]
        }
      ],
      "source": [
        "# prompt: assign your name to variable name person check it among your friends name if its true print 'HOORA'\n",
        "\n",
        "person_name = \"YourName\" # Replace with your name\n",
        "friends_names = [\"Friend1\", \"Friend2\", \"YourName\", \"Friend4\"] # Replace with your friends' names\n",
        "\n",
        "if person_name in friends_names:\n",
        "  print('HOORA')\n"
      ]
    },
    {
      "cell_type": "markdown",
      "metadata": {
        "id": "XaZyF4pvf1QJ"
      },
      "source": [
        "# Q8:\n",
        "create a list 1 to 10 then check for even numbers then print all using for loops"
      ]
    },
    {
      "cell_type": "code",
      "execution_count": 16,
      "metadata": {
        "vscode": {
          "languageId": "plaintext"
        },
        "id": "vWKXVmGKf1QJ",
        "outputId": "0122bd30-1bdb-4bf9-970d-fbdcb933ea06",
        "colab": {
          "base_uri": "https://localhost:8080/"
        }
      },
      "outputs": [
        {
          "output_type": "stream",
          "name": "stdout",
          "text": [
            "1 is odd\n",
            "2 is even\n",
            "3 is odd\n",
            "4 is even\n",
            "5 is odd\n",
            "6 is even\n",
            "7 is odd\n",
            "8 is even\n",
            "9 is odd\n",
            "10 is even\n"
          ]
        }
      ],
      "source": [
        "# Create a list from 1 to 10\n",
        "numbers = list(range(1, 11))\n",
        "\n",
        "# Check for even numbers and print all using a for loop\n",
        "for num in numbers:\n",
        "    if num % 2 == 0:\n",
        "        print(f\"{num} is even\")\n",
        "    else:\n",
        "        print(f\"{num} is odd\")\n"
      ]
    },
    {
      "cell_type": "markdown",
      "metadata": {
        "id": "9V60ffoaf1QJ"
      },
      "source": [
        "# Q9:\n",
        "consider x is 12 while x is between 10 to 15 print good else continue"
      ]
    },
    {
      "cell_type": "code",
      "execution_count": 12,
      "metadata": {
        "vscode": {
          "languageId": "plaintext"
        },
        "id": "Uion-dHxf1QJ",
        "outputId": "b4da5402-557e-4542-b236-08aca56cc5b6",
        "colab": {
          "base_uri": "https://localhost:8080/"
        }
      },
      "outputs": [
        {
          "output_type": "stream",
          "name": "stdout",
          "text": [
            "good\n"
          ]
        }
      ],
      "source": [
        "# prompt: consider x is 12 while x is between 10 to 15 print good else continue\n",
        "\n",
        "x = 12\n",
        "if 10 <= x <= 15:\n",
        "  print(\"good\")\n",
        "else:\n",
        "  pass # or continue, which does nothing here"
      ]
    },
    {
      "cell_type": "markdown",
      "metadata": {
        "id": "T2jLUQA6f1QK"
      },
      "source": [
        "# Q10:\n",
        "make a list from 0 to 10000 with step of 100 using \"range\" shuffle this list and pick index 10"
      ]
    },
    {
      "cell_type": "code",
      "execution_count": 13,
      "metadata": {
        "vscode": {
          "languageId": "plaintext"
        },
        "id": "Fw3sjMQyf1QK",
        "outputId": "917df6a6-c45f-4cd4-bd9b-dd9712b5d401",
        "colab": {
          "base_uri": "https://localhost:8080/"
        }
      },
      "outputs": [
        {
          "output_type": "stream",
          "name": "stdout",
          "text": [
            "1600\n"
          ]
        }
      ],
      "source": [
        "# prompt: make a list from 0 to 10000 with step of 100 using \"range\" shuffle this list and pick index 10\n",
        "\n",
        "import random\n",
        "\n",
        "# Make a list from 0 to 10000 with a step of 100\n",
        "my_list = list(range(0, 10001, 100))\n",
        "\n",
        "# Shuffle the list\n",
        "random.shuffle(my_list)\n",
        "\n",
        "# Pick and print the element at index 10\n",
        "if len(my_list) > 10:\n",
        "  print(my_list[10])\n",
        "else:\n",
        "  print(\"The list does not have an index 10 after creation and shuffling.\")"
      ]
    },
    {
      "cell_type": "markdown",
      "metadata": {
        "id": "6Jb9fecIf1QK"
      },
      "source": [
        "# Q11:\n",
        "Consider list of 1 to 5 append 6 in it and count even number in it using a function"
      ]
    },
    {
      "cell_type": "code",
      "execution_count": 14,
      "metadata": {
        "vscode": {
          "languageId": "plaintext"
        },
        "id": "VZ0SKgYpf1QK",
        "outputId": "8127077e-4381-44e7-e2f7-6ec408ac6bc0",
        "colab": {
          "base_uri": "https://localhost:8080/"
        }
      },
      "outputs": [
        {
          "output_type": "stream",
          "name": "stdout",
          "text": [
            "The list is: [1, 2, 3, 4, 5, 6]\n",
            "Number of even numbers in the list: 3\n"
          ]
        }
      ],
      "source": [
        "# prompt: Consider list of 1 to 5 append 6 in it and count even number in it using a function\n",
        "\n",
        "def count_even(numbers):\n",
        "  \"\"\"Counts the number of even numbers in a list.\"\"\"\n",
        "  even_count = 0\n",
        "  for number in numbers:\n",
        "    if number % 2 == 0:\n",
        "      even_count += 1\n",
        "  return even_count\n",
        "\n",
        "# Create a list from 1 to 5\n",
        "my_list = list(range(1, 6))\n",
        "\n",
        "# Append 6 to the list\n",
        "my_list.append(6)\n",
        "\n",
        "print(f\"The list is: {my_list}\")\n",
        "\n",
        "# Count even numbers in the list\n",
        "even_numbers_count = count_even(my_list)\n",
        "print(f\"Number of even numbers in the list: {even_numbers_count}\")\n"
      ]
    },
    {
      "cell_type": "markdown",
      "metadata": {
        "id": "obPxepxNf1QK"
      },
      "source": [
        "# Q12:\n",
        "write a function that get string and uppercase the first letter if it's capital print it's True"
      ]
    },
    {
      "cell_type": "code",
      "execution_count": 15,
      "metadata": {
        "vscode": {
          "languageId": "plaintext"
        },
        "id": "-cNKeKdHf1QK",
        "outputId": "5743090c-c72c-4229-a17c-b99d24a58c42",
        "colab": {
          "base_uri": "https://localhost:8080/"
        }
      },
      "outputs": [
        {
          "output_type": "stream",
          "name": "stdout",
          "text": [
            "Original: 'hello world'\n",
            "Modified: 'Hello world'\n",
            "--------------------\n",
            "Original: 'Hello World'\n",
            "It's True\n",
            "Modified: 'Hello World'\n",
            "--------------------\n",
            "Original: '123 abc'\n",
            "Modified: '123 abc'\n",
            "--------------------\n",
            "Original: ''\n",
            "Modified: ''\n",
            "--------------------\n"
          ]
        }
      ],
      "source": [
        "# prompt: write a function that get string and uppercase the first letter if it's capital print it's True\n",
        "\n",
        "def check_and_capitalize_first(input_string):\n",
        "  \"\"\"\n",
        "  Checks if the first letter of a string is capitalized and prints True if it is.\n",
        "  Then, capitalizes the first letter of the string (if it's a letter)\n",
        "  and returns the modified string.\n",
        "  \"\"\"\n",
        "  if not input_string:\n",
        "    return input_string # Return empty string if input is empty\n",
        "\n",
        "  first_char = input_string[0]\n",
        "\n",
        "  # Check if the first character is a letter and is uppercase\n",
        "  if 'A' <= first_char <= 'Z':\n",
        "    print(\"It's True\")\n",
        "\n",
        "  # Capitalize the first letter (if it's a letter)\n",
        "  if first_char.isalpha():\n",
        "    return first_char.upper() + input_string[1:]\n",
        "  else:\n",
        "    return input_string # Return the original string if first char is not a letter\n",
        "\n",
        "# Example Usage:\n",
        "string1 = \"hello world\"\n",
        "string2 = \"Hello World\"\n",
        "string3 = \"123 abc\"\n",
        "string4 = \"\"\n",
        "\n",
        "print(f\"Original: '{string1}'\")\n",
        "modified_string1 = check_and_capitalize_first(string1)\n",
        "print(f\"Modified: '{modified_string1}'\")\n",
        "print(\"-\" * 20)\n",
        "\n",
        "print(f\"Original: '{string2}'\")\n",
        "modified_string2 = check_and_capitalize_first(string2)\n",
        "print(f\"Modified: '{modified_string2}'\")\n",
        "print(\"-\" * 20)\n",
        "\n",
        "print(f\"Original: '{string3}'\")\n",
        "modified_string3 = check_and_capitalize_first(string3)\n",
        "print(f\"Modified: '{modified_string3}'\")\n",
        "print(\"-\" * 20)\n",
        "\n",
        "print(f\"Original: '{string4}'\")\n",
        "modified_string4 = check_and_capitalize_first(string4)\n",
        "print(f\"Modified: '{modified_string4}'\")\n",
        "print(\"-\" * 20)"
      ]
    }
  ],
  "metadata": {
    "language_info": {
      "name": "python"
    },
    "colab": {
      "provenance": [],
      "include_colab_link": true
    },
    "kernelspec": {
      "name": "python3",
      "display_name": "Python 3"
    }
  },
  "nbformat": 4,
  "nbformat_minor": 0
}